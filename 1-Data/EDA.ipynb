{
 "cells": [
  {
   "cell_type": "markdown",
   "metadata": {},
   "source": [
    "#  <font color='#FFE15D'><b>💎 Data</b></font>"
   ]
  },
  {
   "cell_type": "markdown",
   "metadata": {},
   "source": [
    "# 🔴 **Import**"
   ]
  },
  {
   "cell_type": "code",
   "execution_count": 4,
   "metadata": {},
   "outputs": [
    {
     "name": "stderr",
     "output_type": "stream",
     "text": [
      "/opt/anaconda3/envs/deep/lib/python3.10/site-packages/tqdm/auto.py:21: TqdmWarning: IProgress not found. Please update jupyter and ipywidgets. See https://ipywidgets.readthedocs.io/en/stable/user_install.html\n",
      "  from .autonotebook import tqdm as notebook_tqdm\n",
      "\n",
      "A module that was compiled using NumPy 1.x cannot be run in\n",
      "NumPy 2.2.6 as it may crash. To support both 1.x and 2.x\n",
      "versions of NumPy, modules must be compiled with NumPy 2.0.\n",
      "Some module may need to rebuild instead e.g. with 'pybind11>=2.12'.\n",
      "\n",
      "If you are a user of the module, the easiest solution will be to\n",
      "downgrade to 'numpy<2' or try to upgrade the affected module.\n",
      "We expect that some modules will need time to support NumPy 2.\n",
      "\n",
      "Traceback (most recent call last):  File \"/opt/anaconda3/envs/deep/lib/python3.10/runpy.py\", line 196, in _run_module_as_main\n",
      "    return _run_code(code, main_globals, None,\n",
      "  File \"/opt/anaconda3/envs/deep/lib/python3.10/runpy.py\", line 86, in _run_code\n",
      "    exec(code, run_globals)\n",
      "  File \"/opt/anaconda3/envs/deep/lib/python3.10/site-packages/ipykernel_launcher.py\", line 18, in <module>\n",
      "    app.launch_new_instance()\n",
      "  File \"/opt/anaconda3/envs/deep/lib/python3.10/site-packages/traitlets/config/application.py\", line 1075, in launch_instance\n",
      "    app.start()\n",
      "  File \"/opt/anaconda3/envs/deep/lib/python3.10/site-packages/ipykernel/kernelapp.py\", line 739, in start\n",
      "    self.io_loop.start()\n",
      "  File \"/opt/anaconda3/envs/deep/lib/python3.10/site-packages/tornado/platform/asyncio.py\", line 211, in start\n",
      "    self.asyncio_loop.run_forever()\n",
      "  File \"/opt/anaconda3/envs/deep/lib/python3.10/asyncio/base_events.py\", line 603, in run_forever\n",
      "    self._run_once()\n",
      "  File \"/opt/anaconda3/envs/deep/lib/python3.10/asyncio/base_events.py\", line 1909, in _run_once\n",
      "    handle._run()\n",
      "  File \"/opt/anaconda3/envs/deep/lib/python3.10/asyncio/events.py\", line 80, in _run\n",
      "    self._context.run(self._callback, *self._args)\n",
      "  File \"/opt/anaconda3/envs/deep/lib/python3.10/site-packages/ipykernel/kernelbase.py\", line 519, in dispatch_queue\n",
      "    await self.process_one()\n",
      "  File \"/opt/anaconda3/envs/deep/lib/python3.10/site-packages/ipykernel/kernelbase.py\", line 508, in process_one\n",
      "    await dispatch(*args)\n",
      "  File \"/opt/anaconda3/envs/deep/lib/python3.10/site-packages/ipykernel/kernelbase.py\", line 400, in dispatch_shell\n",
      "    await result\n",
      "  File \"/opt/anaconda3/envs/deep/lib/python3.10/site-packages/ipykernel/ipkernel.py\", line 368, in execute_request\n",
      "    await super().execute_request(stream, ident, parent)\n",
      "  File \"/opt/anaconda3/envs/deep/lib/python3.10/site-packages/ipykernel/kernelbase.py\", line 767, in execute_request\n",
      "    reply_content = await reply_content\n",
      "  File \"/opt/anaconda3/envs/deep/lib/python3.10/site-packages/ipykernel/ipkernel.py\", line 455, in do_execute\n",
      "    res = shell.run_cell(\n",
      "  File \"/opt/anaconda3/envs/deep/lib/python3.10/site-packages/ipykernel/zmqshell.py\", line 577, in run_cell\n",
      "    return super().run_cell(*args, **kwargs)\n",
      "  File \"/opt/anaconda3/envs/deep/lib/python3.10/site-packages/IPython/core/interactiveshell.py\", line 3077, in run_cell\n",
      "    result = self._run_cell(\n",
      "  File \"/opt/anaconda3/envs/deep/lib/python3.10/site-packages/IPython/core/interactiveshell.py\", line 3132, in _run_cell\n",
      "    result = runner(coro)\n",
      "  File \"/opt/anaconda3/envs/deep/lib/python3.10/site-packages/IPython/core/async_helpers.py\", line 128, in _pseudo_sync_runner\n",
      "    coro.send(None)\n",
      "  File \"/opt/anaconda3/envs/deep/lib/python3.10/site-packages/IPython/core/interactiveshell.py\", line 3336, in run_cell_async\n",
      "    has_raised = await self.run_ast_nodes(code_ast.body, cell_name,\n",
      "  File \"/opt/anaconda3/envs/deep/lib/python3.10/site-packages/IPython/core/interactiveshell.py\", line 3519, in run_ast_nodes\n",
      "    if await self.run_code(code, result, async_=asy):\n",
      "  File \"/opt/anaconda3/envs/deep/lib/python3.10/site-packages/IPython/core/interactiveshell.py\", line 3579, in run_code\n",
      "    exec(code_obj, self.user_global_ns, self.user_ns)\n",
      "  File \"/var/folders/cr/q3l9dqfn2hb1v4cdl1m__hc80000gn/T/ipykernel_14710/2244290490.py\", line 23, in <module>\n",
      "    import torch\n",
      "  File \"/opt/anaconda3/envs/deep/lib/python3.10/site-packages/torch/__init__.py\", line 1477, in <module>\n",
      "    from .functional import *  # noqa: F403\n",
      "  File \"/opt/anaconda3/envs/deep/lib/python3.10/site-packages/torch/functional.py\", line 9, in <module>\n",
      "    import torch.nn.functional as F\n",
      "  File \"/opt/anaconda3/envs/deep/lib/python3.10/site-packages/torch/nn/__init__.py\", line 1, in <module>\n",
      "    from .modules import *  # noqa: F403\n",
      "  File \"/opt/anaconda3/envs/deep/lib/python3.10/site-packages/torch/nn/modules/__init__.py\", line 35, in <module>\n",
      "    from .transformer import TransformerEncoder, TransformerDecoder, \\\n",
      "  File \"/opt/anaconda3/envs/deep/lib/python3.10/site-packages/torch/nn/modules/transformer.py\", line 20, in <module>\n",
      "    device: torch.device = torch.device(torch._C._get_default_device()),  # torch.device('cpu'),\n",
      "/opt/anaconda3/envs/deep/lib/python3.10/site-packages/torch/nn/modules/transformer.py:20: UserWarning: Failed to initialize NumPy: _ARRAY_API not found (Triggered internally at /Users/runner/work/pytorch/pytorch/pytorch/torch/csrc/utils/tensor_numpy.cpp:84.)\n",
      "  device: torch.device = torch.device(torch._C._get_default_device()),  # torch.device('cpu'),\n"
     ]
    }
   ],
   "source": [
    "import os\n",
    "import re\n",
    "import time\n",
    "import json\n",
    "import random\n",
    "import string\n",
    "import psutil\n",
    "import pickle\n",
    "from tqdm import tqdm\n",
    "from pprint import pprint\n",
    "from collections import Counter, defaultdict\n",
    "\n",
    "import numpy as np\n",
    "import pandas as pd\n",
    "import seaborn as sns\n",
    "import matplotlib.pyplot as plt\n",
    "from scipy.stats import mode\n",
    "\n",
    "from datasets import load_dataset\n",
    "from tokenizers import Tokenizer, models, trainers, pre_tokenizers, normalizers, decoders, processors\n",
    "import tiktoken\n",
    "\n",
    "import torch\n",
    "from torch.utils.data import TensorDataset, Dataset, IterableDataset, DataLoader"
   ]
  },
  {
   "cell_type": "markdown",
   "metadata": {},
   "source": [
    "# 🔴 **Environment Setup**"
   ]
  },
  {
   "cell_type": "markdown",
   "metadata": {},
   "source": [
    "## 🟠 `pip`"
   ]
  },
  {
   "cell_type": "code",
   "execution_count": 1,
   "metadata": {},
   "outputs": [
    {
     "name": "stdout",
     "output_type": "stream",
     "text": [
      "Requirement already satisfied: datasets in /opt/anaconda3/envs/deep/lib/python3.10/site-packages (4.1.1)\n",
      "Requirement already satisfied: filelock in /opt/anaconda3/envs/deep/lib/python3.10/site-packages (from datasets) (3.19.1)\n",
      "Requirement already satisfied: numpy>=1.17 in /opt/anaconda3/envs/deep/lib/python3.10/site-packages (from datasets) (2.2.6)\n",
      "Requirement already satisfied: pyarrow>=21.0.0 in /opt/anaconda3/envs/deep/lib/python3.10/site-packages (from datasets) (21.0.0)\n",
      "Requirement already satisfied: dill<0.4.1,>=0.3.0 in /opt/anaconda3/envs/deep/lib/python3.10/site-packages (from datasets) (0.4.0)\n",
      "Requirement already satisfied: pandas in /opt/anaconda3/envs/deep/lib/python3.10/site-packages (from datasets) (2.3.2)\n",
      "Requirement already satisfied: requests>=2.32.2 in /opt/anaconda3/envs/deep/lib/python3.10/site-packages (from datasets) (2.32.5)\n",
      "Requirement already satisfied: tqdm>=4.66.3 in /opt/anaconda3/envs/deep/lib/python3.10/site-packages (from datasets) (4.67.1)\n",
      "Requirement already satisfied: xxhash in /opt/anaconda3/envs/deep/lib/python3.10/site-packages (from datasets) (3.5.0)\n",
      "Requirement already satisfied: multiprocess<0.70.17 in /opt/anaconda3/envs/deep/lib/python3.10/site-packages (from datasets) (0.70.16)\n",
      "Requirement already satisfied: fsspec<=2025.9.0,>=2023.1.0 in /opt/anaconda3/envs/deep/lib/python3.10/site-packages (from fsspec[http]<=2025.9.0,>=2023.1.0->datasets) (2025.9.0)\n",
      "Requirement already satisfied: huggingface-hub>=0.24.0 in /opt/anaconda3/envs/deep/lib/python3.10/site-packages (from datasets) (0.35.0)\n",
      "Requirement already satisfied: packaging in /opt/anaconda3/envs/deep/lib/python3.10/site-packages (from datasets) (25.0)\n",
      "Requirement already satisfied: pyyaml>=5.1 in /opt/anaconda3/envs/deep/lib/python3.10/site-packages (from datasets) (6.0.2)\n",
      "Requirement already satisfied: aiohttp!=4.0.0a0,!=4.0.0a1 in /opt/anaconda3/envs/deep/lib/python3.10/site-packages (from fsspec[http]<=2025.9.0,>=2023.1.0->datasets) (3.12.15)\n",
      "Requirement already satisfied: aiohappyeyeballs>=2.5.0 in /opt/anaconda3/envs/deep/lib/python3.10/site-packages (from aiohttp!=4.0.0a0,!=4.0.0a1->fsspec[http]<=2025.9.0,>=2023.1.0->datasets) (2.6.1)\n",
      "Requirement already satisfied: aiosignal>=1.4.0 in /opt/anaconda3/envs/deep/lib/python3.10/site-packages (from aiohttp!=4.0.0a0,!=4.0.0a1->fsspec[http]<=2025.9.0,>=2023.1.0->datasets) (1.4.0)\n",
      "Requirement already satisfied: async-timeout<6.0,>=4.0 in /opt/anaconda3/envs/deep/lib/python3.10/site-packages (from aiohttp!=4.0.0a0,!=4.0.0a1->fsspec[http]<=2025.9.0,>=2023.1.0->datasets) (5.0.1)\n",
      "Requirement already satisfied: attrs>=17.3.0 in /opt/anaconda3/envs/deep/lib/python3.10/site-packages (from aiohttp!=4.0.0a0,!=4.0.0a1->fsspec[http]<=2025.9.0,>=2023.1.0->datasets) (25.3.0)\n",
      "Requirement already satisfied: frozenlist>=1.1.1 in /opt/anaconda3/envs/deep/lib/python3.10/site-packages (from aiohttp!=4.0.0a0,!=4.0.0a1->fsspec[http]<=2025.9.0,>=2023.1.0->datasets) (1.7.0)\n",
      "Requirement already satisfied: multidict<7.0,>=4.5 in /opt/anaconda3/envs/deep/lib/python3.10/site-packages (from aiohttp!=4.0.0a0,!=4.0.0a1->fsspec[http]<=2025.9.0,>=2023.1.0->datasets) (6.6.4)\n",
      "Requirement already satisfied: propcache>=0.2.0 in /opt/anaconda3/envs/deep/lib/python3.10/site-packages (from aiohttp!=4.0.0a0,!=4.0.0a1->fsspec[http]<=2025.9.0,>=2023.1.0->datasets) (0.3.2)\n",
      "Requirement already satisfied: yarl<2.0,>=1.17.0 in /opt/anaconda3/envs/deep/lib/python3.10/site-packages (from aiohttp!=4.0.0a0,!=4.0.0a1->fsspec[http]<=2025.9.0,>=2023.1.0->datasets) (1.20.1)\n",
      "Requirement already satisfied: typing-extensions>=4.1.0 in /opt/anaconda3/envs/deep/lib/python3.10/site-packages (from multidict<7.0,>=4.5->aiohttp!=4.0.0a0,!=4.0.0a1->fsspec[http]<=2025.9.0,>=2023.1.0->datasets) (4.15.0)\n",
      "Requirement already satisfied: idna>=2.0 in /opt/anaconda3/envs/deep/lib/python3.10/site-packages (from yarl<2.0,>=1.17.0->aiohttp!=4.0.0a0,!=4.0.0a1->fsspec[http]<=2025.9.0,>=2023.1.0->datasets) (3.10)\n",
      "Requirement already satisfied: hf-xet<2.0.0,>=1.1.3 in /opt/anaconda3/envs/deep/lib/python3.10/site-packages (from huggingface-hub>=0.24.0->datasets) (1.1.10)\n",
      "Requirement already satisfied: charset_normalizer<4,>=2 in /opt/anaconda3/envs/deep/lib/python3.10/site-packages (from requests>=2.32.2->datasets) (3.4.3)\n",
      "Requirement already satisfied: urllib3<3,>=1.21.1 in /opt/anaconda3/envs/deep/lib/python3.10/site-packages (from requests>=2.32.2->datasets) (2.5.0)\n",
      "Requirement already satisfied: certifi>=2017.4.17 in /opt/anaconda3/envs/deep/lib/python3.10/site-packages (from requests>=2.32.2->datasets) (2025.8.3)\n",
      "Requirement already satisfied: python-dateutil>=2.8.2 in /opt/anaconda3/envs/deep/lib/python3.10/site-packages (from pandas->datasets) (2.9.0.post0)\n",
      "Requirement already satisfied: pytz>=2020.1 in /opt/anaconda3/envs/deep/lib/python3.10/site-packages (from pandas->datasets) (2025.2)\n",
      "Requirement already satisfied: tzdata>=2022.7 in /opt/anaconda3/envs/deep/lib/python3.10/site-packages (from pandas->datasets) (2025.2)\n",
      "Requirement already satisfied: six>=1.5 in /opt/anaconda3/envs/deep/lib/python3.10/site-packages (from python-dateutil>=2.8.2->pandas->datasets) (1.17.0)\n"
     ]
    }
   ],
   "source": [
    "!pip install datasets"
   ]
  },
  {
   "cell_type": "code",
   "execution_count": 2,
   "metadata": {},
   "outputs": [
    {
     "name": "stdout",
     "output_type": "stream",
     "text": [
      "Collecting tiktoken\n",
      "  Downloading tiktoken-0.12.0-cp310-cp310-macosx_10_12_x86_64.whl.metadata (6.7 kB)\n",
      "Collecting regex>=2022.1.18 (from tiktoken)\n",
      "  Downloading regex-2025.9.18-cp310-cp310-macosx_10_9_x86_64.whl.metadata (40 kB)\n",
      "Requirement already satisfied: requests>=2.26.0 in /opt/anaconda3/envs/deep/lib/python3.10/site-packages (from tiktoken) (2.32.5)\n",
      "Requirement already satisfied: charset_normalizer<4,>=2 in /opt/anaconda3/envs/deep/lib/python3.10/site-packages (from requests>=2.26.0->tiktoken) (3.4.3)\n",
      "Requirement already satisfied: idna<4,>=2.5 in /opt/anaconda3/envs/deep/lib/python3.10/site-packages (from requests>=2.26.0->tiktoken) (3.10)\n",
      "Requirement already satisfied: urllib3<3,>=1.21.1 in /opt/anaconda3/envs/deep/lib/python3.10/site-packages (from requests>=2.26.0->tiktoken) (2.5.0)\n",
      "Requirement already satisfied: certifi>=2017.4.17 in /opt/anaconda3/envs/deep/lib/python3.10/site-packages (from requests>=2.26.0->tiktoken) (2025.8.3)\n",
      "Downloading tiktoken-0.12.0-cp310-cp310-macosx_10_12_x86_64.whl (1.1 MB)\n",
      "\u001b[2K   \u001b[90m━━━━━━━━━━━━━━━━━━━━━━━━━━━━━━━━━━━━━━━━\u001b[0m \u001b[32m1.1/1.1 MB\u001b[0m \u001b[31m14.8 MB/s\u001b[0m  \u001b[33m0:00:00\u001b[0m\n",
      "\u001b[?25hDownloading regex-2025.9.18-cp310-cp310-macosx_10_9_x86_64.whl (288 kB)\n",
      "Installing collected packages: regex, tiktoken\n",
      "\u001b[2K   \u001b[90m━━━━━━━━━━━━━━━━━━━━━━━━━━━━━━━━━━━━━━━━\u001b[0m \u001b[32m2/2\u001b[0m [tiktoken]\n",
      "\u001b[1A\u001b[2KSuccessfully installed regex-2025.9.18 tiktoken-0.12.0\n"
     ]
    }
   ],
   "source": [
    "!pip install tiktoken"
   ]
  },
  {
   "cell_type": "markdown",
   "metadata": {},
   "source": [
    "# 🔴 **Utils**"
   ]
  },
  {
   "cell_type": "code",
   "execution_count": 5,
   "metadata": {},
   "outputs": [],
   "source": [
    "def get_sample(dataset):\n",
    "    # Randomly select an index from the training dataset\n",
    "    idx = random.randint(0, len(dataset['train']))\n",
    "\n",
    "    # Return the \"text\" field of the randomly selected training sample\n",
    "    return dataset['train'][idx]['text']"
   ]
  },
  {
   "cell_type": "markdown",
   "metadata": {},
   "source": [
    "# 🔴 **EDA**"
   ]
  },
  {
   "cell_type": "markdown",
   "metadata": {},
   "source": [
    "## 🟠 Exploring the Dataset"
   ]
  },
  {
   "cell_type": "code",
   "execution_count": 7,
   "metadata": {},
   "outputs": [
    {
     "name": "stderr",
     "output_type": "stream",
     "text": [
      "Generating train split: 100%|██████████| 2119719/2119719 [00:02<00:00, 958713.63 examples/s] \n",
      "Generating validation split: 100%|██████████| 21990/21990 [00:00<00:00, 992005.95 examples/s]\n"
     ]
    }
   ],
   "source": [
    "dataset = load_dataset(\"roneneldan/TinyStories\")"
   ]
  },
  {
   "cell_type": "code",
   "execution_count": 9,
   "metadata": {},
   "outputs": [
    {
     "name": "stdout",
     "output_type": "stream",
     "text": [
      "Once upon a time there was a special gem. It was sparkly and beautiful. Everyone wanted to own it, but nobody could.\n",
      "\n",
      "One day a creative bird came along. He had a plan to get the jewel. He held onto it as he flew, high in the sky.\n",
      "\n",
      "Suddenly, he had an idea. He opened his wings wide and released the gem into the air. It sparkled and glowed as it flew all around. Everyone was so happy! Now they could admire the joy.\n",
      "\n",
      "The bird flew away, happy that he had helped. The people watched, amazed at what they had seen. They had all enjoyed the pretty jewel.\n",
      "\n",
      "The end.\n"
     ]
    }
   ],
   "source": [
    "sample = get_sample(dataset)\n",
    "print(sample)"
   ]
  },
  {
   "cell_type": "markdown",
   "metadata": {},
   "source": [
    "## 🟠 Measuring RAM Usage After Loading Dataset"
   ]
  },
  {
   "cell_type": "code",
   "execution_count": null,
   "metadata": {},
   "outputs": [],
   "source": [
    "# RAM before\n",
    "process = psutil.Process(os.getpid())\n",
    "ram_before = process.memory_info().rss  # in bytes\n",
    "\n",
    "# Load dataset\n",
    "dataset = load_dataset(\"roneneldan/TinyStories\")\n",
    "\n",
    "# RAM after\n",
    "ram_after = process.memory_info().rss\n",
    "\n",
    "# Result\n",
    "ram_used = ram_after - ram_before\n",
    "print(f\"🔹 RAM used for loading dataset: {ram_used / (1024**2):.2f} MB\")\n"
   ]
  },
  {
   "cell_type": "code",
   "execution_count": null,
   "metadata": {},
   "outputs": [],
   "source": [
    "# RAM before\n",
    "process = psutil.Process(os.getpid())\n",
    "ram_before = process.memory_info().rss  # in bytes\n",
    "\n",
    "# Load full dataset into memory\n",
    "train = list(dataset[\"train\"])\n",
    "val = list(dataset[\"validation\"])\n",
    "\n",
    "# RAM after\n",
    "ram_after = process.memory_info().rss\n",
    "\n",
    "# Result\n",
    "ram_used = ram_after - ram_before\n",
    "print(f\"🔹 RAM used for loading full dataset into memory: {ram_used / (1024**3):.2f} GB\")\n"
   ]
  },
  {
   "cell_type": "code",
   "execution_count": null,
   "metadata": {},
   "outputs": [],
   "source": [
    "# RAM before\n",
    "process = psutil.Process(os.getpid())\n",
    "ram_before = process.memory_info().rss  # in bytes\n",
    "\n",
    "for item in tqdm(dataset[\"train\"], desc=\"Looping over the dataset {Train}\"):\n",
    "    pass\n",
    "\n",
    "for item in tqdm(dataset[\"validation\"], desc=\"Looping over the dataset {Valid}\"):\n",
    "    pass\n",
    "\n",
    "# RAM after\n",
    "ram_after = process.memory_info().rss\n",
    "\n",
    "# Result\n",
    "ram_used = ram_after - ram_before\n",
    "print(f\"\\n🔹 RAM usage while looping over the dataset: {ram_used / (1024**3):.2f} GB\")\n"
   ]
  },
  {
   "cell_type": "markdown",
   "metadata": {},
   "source": [
    "## 🟠 Measuring RAM Usage After Tokenization"
   ]
  },
  {
   "cell_type": "code",
   "execution_count": 10,
   "metadata": {},
   "outputs": [],
   "source": [
    "# Load tiktoken encoder (GPT-3.5/GPT-4 encoding)\n",
    "tokenizer = tiktoken.get_encoding(\"gpt2\")  # 'gpt2' for GPT-Neo compatibility"
   ]
  },
  {
   "cell_type": "code",
   "execution_count": 11,
   "metadata": {},
   "outputs": [
    {
     "name": "stderr",
     "output_type": "stream",
     "text": [
      "Tokenizing Train Set: 100%|██████████| 2119719/2119719 [07:04<00:00, 4991.75it/s]\n"
     ]
    },
    {
     "name": "stdout",
     "output_type": "stream",
     "text": [
      "\n",
      "🔹 Total tokens in train dataset: 471,872,517\n",
      "🔹 Estimated train token memory: 1.76 GB\n"
     ]
    }
   ],
   "source": [
    "# Tokenization {train}\n",
    "tokenized_train_samples = []\n",
    "for item in tqdm(dataset[\"train\"], desc=\"Tokenizing Train Set\"):\n",
    "    input_ids = tokenizer.encode(item[\"text\"])\n",
    "    tokenized_train_samples.append(np.array(input_ids))\n",
    "\n",
    "# Total token count and estimated memory (GB)\n",
    "total_train_tokens = sum(len(toks) for toks in tokenized_train_samples)\n",
    "bytes_per_token = 4  # int32:4 | uint16:2\n",
    "total_size_gb = total_train_tokens * bytes_per_token / (1024**3)\n",
    "\n",
    "print(f\"\\n🔹 Total tokens in train dataset: {total_train_tokens:,}\")\n",
    "print(f\"🔹 Estimated train token memory: {total_size_gb:.2f} GB\")"
   ]
  },
  {
   "cell_type": "code",
   "execution_count": 12,
   "metadata": {},
   "outputs": [
    {
     "name": "stderr",
     "output_type": "stream",
     "text": [
      "Tokenizing Validation Set: 100%|██████████| 21990/21990 [00:04<00:00, 5404.89it/s]"
     ]
    },
    {
     "name": "stdout",
     "output_type": "stream",
     "text": [
      "\n",
      "🔹 Total tokens in validation dataset: 4,743,928\n",
      "🔹 Estimated validation token memory: 18.10 MB\n"
     ]
    },
    {
     "name": "stderr",
     "output_type": "stream",
     "text": [
      "\n"
     ]
    }
   ],
   "source": [
    "# Tokenization {validation}\n",
    "tokenized_valid_samples = []\n",
    "for item in tqdm(dataset[\"validation\"], desc=\"Tokenizing Validation Set\"):\n",
    "    input_ids = tokenizer.encode(item[\"text\"])\n",
    "    tokenized_valid_samples.append(np.array(input_ids))\n",
    "\n",
    "# Total token count and estimated memory (MB)\n",
    "total_valid_tokens = sum(len(toks) for toks in tokenized_valid_samples)\n",
    "total_size_mb = total_valid_tokens * bytes_per_token / (1024**2)\n",
    "\n",
    "print(f\"\\n🔹 Total tokens in validation dataset: {total_valid_tokens:,}\")\n",
    "print(f\"🔹 Estimated validation token memory: {total_size_mb:.2f} MB\")\n"
   ]
  },
  {
   "cell_type": "markdown",
   "metadata": {},
   "source": [
    "### 🟡 Save the tokens for future use"
   ]
  },
  {
   "cell_type": "code",
   "execution_count": 13,
   "metadata": {},
   "outputs": [],
   "source": [
    "# Save tokens as a pickle file\n",
    "with open('tokenized_train_samples.pkl', 'wb') as f:\n",
    "    pickle.dump(tokenized_train_samples, f)\n",
    "\n",
    "with open('tokenized_valid_samples.pkl', 'wb') as f:\n",
    "    pickle.dump(tokenized_valid_samples, f)"
   ]
  },
  {
   "cell_type": "code",
   "execution_count": 14,
   "metadata": {},
   "outputs": [
    {
     "name": "stdout",
     "output_type": "stream",
     "text": [
      "🔹 RAM used for loading full dataset into memory: 2.31 GB\n"
     ]
    }
   ],
   "source": [
    "# RAM before\n",
    "process = psutil.Process(os.getpid())\n",
    "ram_before = process.memory_info().rss  # in bytes\n",
    "\n",
    "# Load data from the pickle file\n",
    "with open('tokenized_train_samples.pkl', 'rb') as f:\n",
    "    tokenized_train_samples = pickle.load(f)\n",
    "\n",
    "with open('tokenized_valid_samples.pkl', 'rb') as f:\n",
    "    tokenized_valid_samples = pickle.load(f)\n",
    "\n",
    "# RAM after\n",
    "ram_after = process.memory_info().rss\n",
    "\n",
    "# Result\n",
    "ram_used = ram_after - ram_before\n",
    "print(f\"🔹 RAM used for loading full dataset into memory: {ram_used / (1024**3):.2f} GB\")"
   ]
  },
  {
   "cell_type": "code",
   "execution_count": 15,
   "metadata": {},
   "outputs": [
    {
     "name": "stdout",
     "output_type": "stream",
     "text": [
      "🔹 Train data size (bytes): 3.52 GB\n",
      "🔹 Valid data size (bytes): 36.19 MB\n"
     ]
    }
   ],
   "source": [
    "train_bytes = sum(arr.nbytes for arr in tokenized_train_samples)\n",
    "valid_bytes = sum(arr.nbytes for arr in tokenized_valid_samples)\n",
    "\n",
    "print(f\"🔹 Train data size (bytes): {train_bytes / 1024 ** 3:.2f} GB\")\n",
    "print(f\"🔹 Valid data size (bytes): {valid_bytes / 1024 ** 2:.2f} MB\")"
   ]
  },
  {
   "cell_type": "markdown",
   "metadata": {},
   "source": [
    "## 🟠 Distribution of Token Counts per Story"
   ]
  },
  {
   "cell_type": "code",
   "execution_count": 16,
   "metadata": {},
   "outputs": [
    {
     "name": "stderr",
     "output_type": "stream",
     "text": [
      "Counting Tokens per sample: 100%|██████████| 2119719/2119719 [00:00<00:00, 3725379.94it/s]\n"
     ]
    }
   ],
   "source": [
    "# Counting Tokens per sample\n",
    "token_counts = []\n",
    "for tokens in tqdm(tokenized_train_samples, desc=\"Counting Tokens per sample\"):\n",
    "    token_counts.append(len(tokens))"
   ]
  },
  {
   "cell_type": "code",
   "execution_count": 18,
   "metadata": {},
   "outputs": [
    {
     "data": {
      "image/png": "[encoded data removed]",
      "text/plain": [
       "<Figure size 1200x500 with 1 Axes>"
      ]
     },
     "metadata": {},
     "output_type": "display_data"
    }
   ],
   "source": [
    "plt.figure(figsize=(12, 5))\n",
    "sns.histplot(token_counts, kde=True, bins=50, color='skyblue')\n",
    "plt.title(\"Distribution of Token Counts per Sample\")\n",
    "plt.xlabel(\"Token Count\")\n",
    "plt.ylabel(\"Frequency\")\n",
    "plt.show()\n"
   ]
  },
  {
   "cell_type": "markdown",
   "metadata": {},
   "source": [
    "## 🟠 Analyzing Short Stories"
   ]
  },
  {
   "cell_type": "code",
   "execution_count": 21,
   "metadata": {},
   "outputs": [
    {
     "name": "stdout",
     "output_type": "stream",
     "text": [
      "[ 0  6  9 11 12 13 14 15 17 19]\n"
     ]
    }
   ],
   "source": [
    "unique_length = np.unique(token_counts)\n",
    "print(unique_length[:10])"
   ]
  },
  {
   "cell_type": "code",
   "execution_count": 22,
   "metadata": {},
   "outputs": [
    {
     "name": "stdout",
     "output_type": "stream",
     "text": [
      "\n",
      "📘 Length: 0\n",
      "''\n",
      "\n",
      "📘 Length: 0\n",
      "''\n",
      "\n",
      "📘 Length: 0\n",
      "''\n",
      "\n",
      "📘 Length: 0\n",
      "''\n",
      "\n",
      "📘 Length: 0\n",
      "''\n",
      "\n",
      "📘 Length: 11\n",
      "'One day a lady entered the room. She was mod'\n",
      "\n",
      "📘 Length: 6\n",
      "'Once upon a time, there'\n",
      "\n",
      "📘 Length: 11\n",
      "'Once upon a time, there was a silly little bunny'\n",
      "\n",
      "📘 Length: 9\n",
      "'Once upon a time, in a quiet little'\n",
      "\n",
      "📘 Length: 17\n",
      "'Once upon a time, in a big tree, there was a thoughtful raven. The'\n",
      "\n",
      "📘 Length: 13\n",
      "'Once upon a time, there was a boy named Timmy.'\n",
      "\n",
      "📘 Length: 19\n",
      "('Once upon a time, there was a little girl named Lily who loved fairies. She '\n",
      " 'would')\n",
      "\n",
      "📘 Length: 15\n",
      "'Once upon a time, there was a little girl named Helga. Hel'\n",
      "\n",
      "📘 Length: 11\n",
      "'Once upon a time, there was a silly little bunny'\n",
      "\n",
      "📘 Length: 12\n",
      "'Once upon a time, in a wide, hot desert,'\n",
      "\n",
      "📘 Length: 14\n",
      "'Once upon a time, there was a happy baby named Jack. Jack'\n",
      "\n",
      "📘 Length: 14\n",
      "'Once upon a time, a chubby cat named Kitty lived in a'\n"
     ]
    }
   ],
   "source": [
    "# Get unique lengths\n",
    "target_lengths = unique_length[:10]\n",
    "\n",
    "# Track how many samples we've printed per length\n",
    "samples_per_length = defaultdict(int)\n",
    "max_samples = 5  # max samples per token length\n",
    "\n",
    "for idx, tokens in enumerate(tokenized_train_samples):\n",
    "    token_len = len(tokens)\n",
    "\n",
    "    if token_len in target_lengths and samples_per_length[token_len] < max_samples:\n",
    "        count = samples_per_length[token_len] + 1\n",
    "        print(f\"\\n📘 Length: {token_len}\")\n",
    "        pprint(dataset[\"train\"][idx][\"text\"])\n",
    "        samples_per_length[token_len] += 1\n",
    "\n",
    "    # Stop if we've collected all 10 * 5 = 50 samples\n",
    "    if sum(samples_per_length.values()) >= len(target_lengths) * max_samples:\n",
    "        break\n"
   ]
  },
  {
   "cell_type": "markdown",
   "metadata": {},
   "source": [
    "## 🟠 Most common unigrams, bigrams, trigrams"
   ]
  },
  {
   "cell_type": "code",
   "execution_count": 24,
   "metadata": {},
   "outputs": [
    {
     "name": "stderr",
     "output_type": "stream",
     "text": [
      "[nltk_data] Downloading package punkt to /Users/macbook/nltk_data...\n",
      "[nltk_data]   Unzipping tokenizers/punkt.zip.\n",
      "[nltk_data] Downloading package punkt_tab to\n",
      "[nltk_data]     /Users/macbook/nltk_data...\n",
      "[nltk_data]   Unzipping tokenizers/punkt_tab.zip.\n"
     ]
    },
    {
     "data": {
      "text/plain": [
       "True"
      ]
     },
     "execution_count": 24,
     "metadata": {},
     "output_type": "execute_result"
    }
   ],
   "source": [
    "import nltk\n",
    "from nltk.util import ngrams\n",
    "from nltk import word_tokenize, sent_tokenize\n",
    "\n",
    "nltk.download('punkt')\n",
    "nltk.download('punkt_tab')"
   ]
  },
  {
   "cell_type": "code",
   "execution_count": 25,
   "metadata": {},
   "outputs": [],
   "source": [
    "# Helper functions\n",
    "def clean_text(text):\n",
    "    text = text.lower()\n",
    "    return text.strip()\n",
    "\n",
    "def get_top_ngrams(ngrams_list, n=20):\n",
    "    counter = Counter(ngrams_list)\n",
    "    return counter.most_common(n)"
   ]
  },
  {
   "cell_type": "code",
   "execution_count": 26,
   "metadata": {},
   "outputs": [
    {
     "name": "stderr",
     "output_type": "stream",
     "text": [
      "100%|██████████| 21990/21990 [00:32<00:00, 679.58it/s]\n"
     ]
    }
   ],
   "source": [
    "# Preprocessing and aggregation\n",
    "all_words = []\n",
    "all_bigrams = []\n",
    "all_trigrams = []\n",
    "\n",
    "for sample in tqdm(dataset['validation']):  # Limit for performance (you can increase)\n",
    "    text = clean_text(sample['text'])\n",
    "    words = word_tokenize(text)\n",
    "    all_words.extend(words)\n",
    "    all_bigrams.extend([' '.join(bg) for bg in ngrams(words, 2)])\n",
    "    all_trigrams.extend([' '.join(tg) for tg in ngrams(words, 3)])"
   ]
  },
  {
   "cell_type": "code",
   "execution_count": 27,
   "metadata": {},
   "outputs": [
    {
     "name": "stdout",
     "output_type": "stream",
     "text": [
      "\n",
      "🔸 Top 20 Unigrams:\n",
      "[('.', 358849), ('the', 204873), ('and', 181817), (',', 174211), ('to', 129273), ('a', 117121), ('was', 99492), ('he', 81788), ('she', 78131), ('it', 71460), ('they', 64992), ('her', 51001), (\"''\", 46793), ('``', 46777), ('said', 35139), ('!', 33317), ('his', 33039), ('in', 32774), ('with', 31619), ('lily', 30740)]\n",
      "\n",
      "🔸 Top 20 Bigrams:\n",
      "[('. she', 43541), ('. he', 42399), ('. they', 38209), ('. the', 29535), (', ``', 22586), ('was a', 20609), ('. ``', 19850), ('in the', 18923), ('it was', 17512), ('said ,', 17236), ('day ,', 16767), ('one day', 16107), ('. it', 15527), ('to the', 15483), (\". ''\", 15241), ('there was', 15234), ('. one', 14500), (\"! ''\", 14025), ('upon a', 13605), ('a time', 13579)]\n",
      "\n",
      "🔸 Top 20 Trigrams:\n",
      "[('said , ``', 15326), ('there was a', 14402), ('one day ,', 14009), ('. one day', 13633), ('once upon a', 13545), ('upon a time', 13536), ('a time ,', 10655), (', there was', 10240), ('time , there', 10039), ('and said ,', 7637), ('. it was', 7169), ('was a little', 6838), ('. he was', 5683), ('. she was', 5341), ('a little girl', 5313), ('to play with', 4616), ('was so happy', 4123), ('little girl named', 3986), ('the little girl', 3387), ('it was a', 3354)]\n"
     ]
    }
   ],
   "source": [
    "top_unigrams = get_top_ngrams(all_words)\n",
    "top_bigrams = get_top_ngrams(all_bigrams)\n",
    "top_trigrams = get_top_ngrams(all_trigrams)\n",
    "\n",
    "print(\"\\n🔸 Top 20 Unigrams:\")\n",
    "print(top_unigrams)\n",
    "\n",
    "print(\"\\n🔸 Top 20 Bigrams:\")\n",
    "print(top_bigrams)\n",
    "\n",
    "print(\"\\n🔸 Top 20 Trigrams:\")\n",
    "print(top_trigrams)"
   ]
  },
  {
   "cell_type": "markdown",
   "metadata": {},
   "source": [
    "## 🟠 Extracting the Top 10,000 Most Frequent Tokens from the Dataset"
   ]
  },
  {
   "cell_type": "code",
   "execution_count": 28,
   "metadata": {},
   "outputs": [
    {
     "name": "stderr",
     "output_type": "stream",
     "text": [
      "Counting token frequencies: 100%|██████████| 2119719/2119719 [01:08<00:00, 31043.03it/s]"
     ]
    },
    {
     "name": "stdout",
     "output_type": "stream",
     "text": [
      "\n",
      "🔹 10K top tokens saved to top_10k_tokens.txt\n"
     ]
    },
    {
     "name": "stderr",
     "output_type": "stream",
     "text": [
      "\n"
     ]
    }
   ],
   "source": [
    "# Counter to keep track of token frequencies\n",
    "token_counter = Counter()\n",
    "\n",
    "# Iterate through all token IDs and update the counter\n",
    "for tokens in tqdm(tokenized_train_samples, desc=\"Counting token frequencies\"):\n",
    "    token_counter.update(tokens)\n",
    "\n",
    "# Get the 10,000 most frequent tokens\n",
    "top_10k_tokens = [token_id for token_id, _ in token_counter.most_common(10_000)]\n",
    "\n",
    "# Save to file for future use\n",
    "with open(\"top_10k_tokens.txt\", \"w\") as f:\n",
    "    for token_id in top_10k_tokens:\n",
    "        f.write(f\"{token_id}\\n\")\n",
    "\n",
    "print(\"\\n🔹 10K top tokens saved to top_10k_tokens.txt\")\n"
   ]
  },
  {
   "cell_type": "code",
   "execution_count": 29,
   "metadata": {},
   "outputs": [
    {
     "name": "stdout",
     "output_type": "stream",
     "text": [
      "🔹 Unique tokens: 29251\n"
     ]
    }
   ],
   "source": [
    "print(f\"🔹 Unique tokens: {len(token_counter)}\")"
   ]
  },
  {
   "cell_type": "markdown",
   "metadata": {},
   "source": [
    "## 🟠 Vocabulary richness (type-token ratio)"
   ]
  },
  {
   "cell_type": "code",
   "execution_count": 30,
   "metadata": {},
   "outputs": [
    {
     "name": "stdout",
     "output_type": "stream",
     "text": [
      "🔹 Vocabulary Richness (TTR): 0.0001\n"
     ]
    }
   ],
   "source": [
    "# Calculate Type-Token Ratio (TTR)\n",
    "type_token_ratio = len(token_counter) / sum(token_counter.values())\n",
    "print(f\"🔹 Vocabulary Richness (TTR): {type_token_ratio:.4f}\")"
   ]
  },
  {
   "cell_type": "markdown",
   "metadata": {},
   "source": [
    "# 🔴 **Tokenization**"
   ]
  },
  {
   "cell_type": "code",
   "execution_count": null,
   "metadata": {},
   "outputs": [],
   "source": [
    "# Initialize a BPE tokenizer\n",
    "tokenizer = Tokenizer(models.BPE(unk_token=\"|<unk>|\"))\n",
    "\n",
    "# Use a pre-tokenizer to split text into words\n",
    "tokenizer.pre_tokenizer = pre_tokenizers.ByteLevel(add_prefix_space=False)\n",
    "\n",
    "# Initialize a BPE trainer\n",
    "trainer = trainers.BpeTrainer(\n",
    "    vocab_size=10_000,  # Set the vocabulary size\n",
    "    special_tokens=[\"|<unk>|\", \"<|endoftext|>\"],\n",
    "    min_frequency=2,  # Set the minimum frequency of tokens\n",
    "    )\n",
    "\n",
    "# Train the tokenizer on a custom dataset\n",
    "tokenizer.train_from_iterator(dataset[\"train\"][\"text\"], trainer)\n",
    "\n",
    "# Add special tokens\n",
    "tokenizer.post_processor = processors.TemplateProcessing(\n",
    "    single=\"<|endoftext|> $A\",\n",
    "    special_tokens=[(\"<|endoftext|>\", tokenizer.token_to_id(\"<|endoftext|>\"))],\n",
    ")\n",
    "\n",
    "# Add decoder\n",
    "tokenizer.decoder = decoders.ByteLevel(add_prefix_space=False)\n",
    "\n",
    "# Save the trained tokenizer\n",
    "tokenizer.save(\"bpe-tokenizer_tinystories.json\")\n",
    "\n",
    "#\n",
    "print(f\"🎉 Tokenizer training complete!\")\n",
    "print(f\"🔹 Vocabulary size: {tokenizer.get_vocab_size():,} tokens\")"
   ]
  },
  {
   "cell_type": "code",
   "execution_count": null,
   "metadata": {},
   "outputs": [],
   "source": [
    "sent = 'They played together all day and became best friends.'\n",
    "tokens = tokenizer.encode(sent)\n",
    "print(tokens.ids)\n",
    "print(tokens.tokens)\n",
    "\n",
    "pprint(tokenizer.decode(tokens.ids))"
   ]
  },
  {
   "cell_type": "code",
   "execution_count": null,
   "metadata": {},
   "outputs": [],
   "source": [
    "list_sent = ['They played together all day and became best friends.',\n",
    "             'They played together all day and became best friends.',\n",
    "             'They played together all day and became best friends.']\n",
    "string = ' <|endoftext|> '.join(list_sent) + ' <|endoftext|>'\n",
    "print(string)\n",
    "print(tokenizer.encode(string).ids)"
   ]
  },
  {
   "cell_type": "markdown",
   "metadata": {},
   "source": [
    "### 🟡 Save the tokens for future use"
   ]
  },
  {
   "cell_type": "code",
   "execution_count": null,
   "metadata": {},
   "outputs": [],
   "source": [
    "# Tokenization {train}\n",
    "tokenized_train_samples = []\n",
    "for item in tqdm(dataset[\"train\"], desc=\"Tokenizing Train Set\"):\n",
    "    input_ids = tokenizer.encode(item[\"text\"]).ids\n",
    "    tokenized_train_samples += input_ids\n",
    "\n",
    "# Save tokens as a pytorch file\n",
    "torch.save(torch.LongTensor(tokenized_train_samples), 'tokenized-train-samples_vocab-10k.pt')"
   ]
  },
  {
   "cell_type": "code",
   "execution_count": null,
   "metadata": {},
   "outputs": [],
   "source": [
    "# Tokenization {validation}\n",
    "tokenized_valid_samples = []\n",
    "for item in tqdm(dataset[\"validation\"], desc=\"Tokenizing Validation Set\"):\n",
    "    input_ids = tokenizer.encode(item[\"text\"]).ids\n",
    "    tokenized_valid_samples += input_ids\n",
    "\n",
    "# Save tokens as a pytorch file\n",
    "torch.save(torch.tensor(tokenized_valid_samples), 'tokenized-valid-samples_vocab-10k.pt')"
   ]
  }
 ],
 "metadata": {
  "kernelspec": {
   "display_name": "deep",
   "language": "python",
   "name": "python3"
  },
  "language_info": {
   "codemirror_mode": {
    "name": "ipython",
    "version": 3
   },
   "file_extension": ".py",
   "mimetype": "text/x-python",
   "name": "python",
   "nbconvert_exporter": "python",
   "pygments_lexer": "ipython3",
   "version": "3.10.18"
  }
 },
 "nbformat": 4,
 "nbformat_minor": 2
}
